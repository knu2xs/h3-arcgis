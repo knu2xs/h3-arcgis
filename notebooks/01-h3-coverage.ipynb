{
 "cells": [
  {
   "cell_type": "code",
   "execution_count": 1,
   "metadata": {},
   "outputs": [],
   "source": [
    "import importlib\n",
    "import os\n",
    "from pathlib import Path\n",
    "import sys\n",
    "\n",
    "from arcgis.features import GeoAccessor, GeoSeriesAccessor\n",
    "from arcgis.gis import GIS\n",
    "from dotenv import load_dotenv, find_dotenv\n",
    "import pandas as pd"
   ]
  },
  {
   "cell_type": "code",
   "execution_count": 2,
   "metadata": {},
   "outputs": [],
   "source": [
    "# paths to common data locations - NOTE: to convert any path to a raw string, simply use str(path_instance)\n",
    "dir_prj = Path.cwd().parent\n",
    "\n",
    "dir_data = dir_prj/'data'\n",
    "\n",
    "dir_raw = dir_data/'raw'\n",
    "dir_ext = dir_data/'external'\n",
    "dir_int = dir_data/'interim'\n",
    "dir_out = dir_data/'processed'\n",
    "\n",
    "gdb_raw = dir_raw/'raw.gdb'\n",
    "gdb_int = dir_int/'interim.gdb'\n",
    "gdb_out = dir_out/'processed.gdb'\n",
    "\n",
    "# load the \"autoreload\" extension so that code can change, & always reload modules so that as you change code in src, it gets loaded\n",
    "%load_ext autoreload\n",
    "%autoreload 2"
   ]
  },
  {
   "cell_type": "code",
   "execution_count": 4,
   "metadata": {},
   "outputs": [],
   "source": [
    "import h3_arcgis"
   ]
  },
  {
   "cell_type": "code",
   "execution_count": 6,
   "metadata": {},
   "outputs": [],
   "source": [
    "import h3.api.numpy_int as h3"
   ]
  },
  {
   "cell_type": "code",
   "execution_count": 8,
   "metadata": {},
   "outputs": [],
   "source": [
    "aoi_fc = gdb_int/'cbsa_seattle'"
   ]
  },
  {
   "cell_type": "code",
   "execution_count": 9,
   "metadata": {},
   "outputs": [
    {
     "data": {
      "text/html": [
       "<div>\n",
       "<style scoped>\n",
       "    .dataframe tbody tr th:only-of-type {\n",
       "        vertical-align: middle;\n",
       "    }\n",
       "\n",
       "    .dataframe tbody tr th {\n",
       "        vertical-align: top;\n",
       "    }\n",
       "\n",
       "    .dataframe thead th {\n",
       "        text-align: right;\n",
       "    }\n",
       "</style>\n",
       "<table border=\"1\" class=\"dataframe\">\n",
       "  <thead>\n",
       "    <tr style=\"text-align: right;\">\n",
       "      <th></th>\n",
       "      <th>OBJECTID</th>\n",
       "      <th>CBSA_ID</th>\n",
       "      <th>NAME</th>\n",
       "      <th>SHAPE</th>\n",
       "    </tr>\n",
       "  </thead>\n",
       "  <tbody>\n",
       "    <tr>\n",
       "      <th>0</th>\n",
       "      <td>1</td>\n",
       "      <td>42660</td>\n",
       "      <td>Seattle-Tacoma-Bellevue, WA</td>\n",
       "      <td>{\"rings\": [[[-122.63816200392569, 47.146658001...</td>\n",
       "    </tr>\n",
       "  </tbody>\n",
       "</table>\n",
       "</div>"
      ],
      "text/plain": [
       "   OBJECTID CBSA_ID                         NAME  \\\n",
       "0         1   42660  Seattle-Tacoma-Bellevue, WA   \n",
       "\n",
       "                                               SHAPE  \n",
       "0  {\"rings\": [[[-122.63816200392569, 47.146658001...  "
      ]
     },
     "execution_count": 9,
     "metadata": {},
     "output_type": "execute_result"
    }
   ],
   "source": [
    "aoi_df = pd.DataFrame.spatial.from_featureclass(aoi_fc)\n",
    "aoi_df"
   ]
  },
  {
   "cell_type": "code",
   "execution_count": 34,
   "metadata": {},
   "outputs": [
    {
     "data": {
      "text/plain": [
       "0          622215106392391679\n",
       "1          622217167903752191\n",
       "2          622217167789129727\n",
       "3          622217167570305023\n",
       "4          622217167539044351\n",
       "                  ...        \n",
       "1158470    622214773979774975\n",
       "1158471    622214735945957375\n",
       "1158472    622214779148206079\n",
       "1158473    622214769801265151\n",
       "1158474    622214776647352319\n",
       "Length: 1158475, dtype: int64"
      ]
     },
     "execution_count": 34,
     "metadata": {},
     "output_type": "execute_result"
    }
   ],
   "source": [
    "aoi_h3_ids = pd.Series(h3_arcgis.get_unique_h3_ids_for_aoi(aoi_df, 10))\n",
    "aoi_h3_ids"
   ]
  },
  {
   "cell_type": "code",
   "execution_count": 35,
   "metadata": {},
   "outputs": [],
   "source": [
    "pt_df = pd.DataFrame.spatial.from_featureclass(gdb_int/'block_points')"
   ]
  },
  {
   "cell_type": "code",
   "execution_count": 36,
   "metadata": {},
   "outputs": [],
   "source": [
    "pt_h3_ids = pt_df.SHAPE.apply(lambda pt: h3.geo_to_h3(pt.centroid[1], pt.centroid[0], 10))"
   ]
  },
  {
   "cell_type": "code",
   "execution_count": 37,
   "metadata": {},
   "outputs": [
    {
     "data": {
      "text/plain": [
       "0           True\n",
       "1          False\n",
       "2          False\n",
       "3          False\n",
       "4          False\n",
       "           ...  \n",
       "1158470    False\n",
       "1158471    False\n",
       "1158472     True\n",
       "1158473    False\n",
       "1158474    False\n",
       "Length: 1158475, dtype: bool"
      ]
     },
     "execution_count": 37,
     "metadata": {},
     "output_type": "execute_result"
    }
   ],
   "source": [
    "aoi_h3_ids.isin(pt_h3_ids)"
   ]
  },
  {
   "cell_type": "code",
   "execution_count": 40,
   "metadata": {},
   "outputs": [
    {
     "data": {
      "text/html": [
       "<div>\n",
       "<style scoped>\n",
       "    .dataframe tbody tr th:only-of-type {\n",
       "        vertical-align: middle;\n",
       "    }\n",
       "\n",
       "    .dataframe tbody tr th {\n",
       "        vertical-align: top;\n",
       "    }\n",
       "\n",
       "    .dataframe thead th {\n",
       "        text-align: right;\n",
       "    }\n",
       "</style>\n",
       "<table border=\"1\" class=\"dataframe\">\n",
       "  <thead>\n",
       "    <tr style=\"text-align: right;\">\n",
       "      <th></th>\n",
       "      <th>h3_l10</th>\n",
       "      <th>has_point</th>\n",
       "    </tr>\n",
       "  </thead>\n",
       "  <tbody>\n",
       "    <tr>\n",
       "      <th>0</th>\n",
       "      <td>622215106392391679</td>\n",
       "      <td>True</td>\n",
       "    </tr>\n",
       "    <tr>\n",
       "      <th>1</th>\n",
       "      <td>622217167903752191</td>\n",
       "      <td>False</td>\n",
       "    </tr>\n",
       "    <tr>\n",
       "      <th>2</th>\n",
       "      <td>622217167789129727</td>\n",
       "      <td>False</td>\n",
       "    </tr>\n",
       "    <tr>\n",
       "      <th>3</th>\n",
       "      <td>622217167570305023</td>\n",
       "      <td>False</td>\n",
       "    </tr>\n",
       "    <tr>\n",
       "      <th>4</th>\n",
       "      <td>622217167539044351</td>\n",
       "      <td>False</td>\n",
       "    </tr>\n",
       "  </tbody>\n",
       "</table>\n",
       "</div>"
      ],
      "text/plain": [
       "               h3_l10  has_point\n",
       "0  622215106392391679       True\n",
       "1  622217167903752191      False\n",
       "2  622217167789129727      False\n",
       "3  622217167570305023      False\n",
       "4  622217167539044351      False"
      ]
     },
     "execution_count": 40,
     "metadata": {},
     "output_type": "execute_result"
    }
   ],
   "source": [
    "aoi_h3_df = aoi_h3_ids.to_frame(name='h3_l10')\n",
    "aoi_h3_df['has_point'] = aoi_h3_ids.isin(pt_h3_ids)\n",
    "aoi_h3_df.head()"
   ]
  },
  {
   "cell_type": "code",
   "execution_count": 51,
   "metadata": {},
   "outputs": [
    {
     "data": {
      "text/html": [
       "<div>\n",
       "<style scoped>\n",
       "    .dataframe tbody tr th:only-of-type {\n",
       "        vertical-align: middle;\n",
       "    }\n",
       "\n",
       "    .dataframe tbody tr th {\n",
       "        vertical-align: top;\n",
       "    }\n",
       "\n",
       "    .dataframe thead th {\n",
       "        text-align: right;\n",
       "    }\n",
       "</style>\n",
       "<table border=\"1\" class=\"dataframe\">\n",
       "  <thead>\n",
       "    <tr style=\"text-align: right;\">\n",
       "      <th></th>\n",
       "      <th>h3_l10</th>\n",
       "      <th>has_point</th>\n",
       "      <th>h3_l9</th>\n",
       "      <th>h3_l6</th>\n",
       "    </tr>\n",
       "  </thead>\n",
       "  <tbody>\n",
       "    <tr>\n",
       "      <th>0</th>\n",
       "      <td>622215106392391679</td>\n",
       "      <td>True</td>\n",
       "      <td>617711506765119487</td>\n",
       "      <td>604200707909746687</td>\n",
       "    </tr>\n",
       "    <tr>\n",
       "      <th>1</th>\n",
       "      <td>622217167903752191</td>\n",
       "      <td>False</td>\n",
       "      <td>617713568276545535</td>\n",
       "      <td>604202769494048767</td>\n",
       "    </tr>\n",
       "    <tr>\n",
       "      <th>2</th>\n",
       "      <td>622217167789129727</td>\n",
       "      <td>False</td>\n",
       "      <td>617713568161988607</td>\n",
       "      <td>604202769359831039</td>\n",
       "    </tr>\n",
       "    <tr>\n",
       "      <th>3</th>\n",
       "      <td>622217167570305023</td>\n",
       "      <td>False</td>\n",
       "      <td>617713567943098367</td>\n",
       "      <td>604202769091395583</td>\n",
       "    </tr>\n",
       "    <tr>\n",
       "      <th>4</th>\n",
       "      <td>622217167539044351</td>\n",
       "      <td>False</td>\n",
       "      <td>617713567911903231</td>\n",
       "      <td>604202769091395583</td>\n",
       "    </tr>\n",
       "  </tbody>\n",
       "</table>\n",
       "</div>"
      ],
      "text/plain": [
       "               h3_l10  has_point               h3_l9               h3_l6\n",
       "0  622215106392391679       True  617711506765119487  604200707909746687\n",
       "1  622217167903752191      False  617713568276545535  604202769494048767\n",
       "2  622217167789129727      False  617713568161988607  604202769359831039\n",
       "3  622217167570305023      False  617713567943098367  604202769091395583\n",
       "4  622217167539044351      False  617713567911903231  604202769091395583"
      ]
     },
     "execution_count": 51,
     "metadata": {},
     "output_type": "execute_result"
    }
   ],
   "source": [
    "aoi_h3_df['h3_l6'] = aoi_h3_df.h3_l10.apply(lambda h3_id: h3.h3_to_parent(h3_id, 6))\n",
    "aoi_h3_df.head()"
   ]
  },
  {
   "cell_type": "code",
   "execution_count": 52,
   "metadata": {},
   "outputs": [
    {
     "data": {
      "text/html": [
       "<div>\n",
       "<style scoped>\n",
       "    .dataframe tbody tr th:only-of-type {\n",
       "        vertical-align: middle;\n",
       "    }\n",
       "\n",
       "    .dataframe tbody tr th {\n",
       "        vertical-align: top;\n",
       "    }\n",
       "\n",
       "    .dataframe thead th {\n",
       "        text-align: right;\n",
       "    }\n",
       "</style>\n",
       "<table border=\"1\" class=\"dataframe\">\n",
       "  <thead>\n",
       "    <tr style=\"text-align: right;\">\n",
       "      <th></th>\n",
       "      <th>h3_l10</th>\n",
       "      <th>has_point</th>\n",
       "      <th>h3_l9</th>\n",
       "      <th>h3_l6</th>\n",
       "      <th>has_point_l6</th>\n",
       "    </tr>\n",
       "  </thead>\n",
       "  <tbody>\n",
       "    <tr>\n",
       "      <th>0</th>\n",
       "      <td>622215106392391679</td>\n",
       "      <td>True</td>\n",
       "      <td>617711506765119487</td>\n",
       "      <td>604200707909746687</td>\n",
       "      <td>True</td>\n",
       "    </tr>\n",
       "    <tr>\n",
       "      <th>1</th>\n",
       "      <td>622217167903752191</td>\n",
       "      <td>False</td>\n",
       "      <td>617713568276545535</td>\n",
       "      <td>604202769494048767</td>\n",
       "      <td>True</td>\n",
       "    </tr>\n",
       "    <tr>\n",
       "      <th>2</th>\n",
       "      <td>622217167789129727</td>\n",
       "      <td>False</td>\n",
       "      <td>617713568161988607</td>\n",
       "      <td>604202769359831039</td>\n",
       "      <td>False</td>\n",
       "    </tr>\n",
       "    <tr>\n",
       "      <th>3</th>\n",
       "      <td>622217167570305023</td>\n",
       "      <td>False</td>\n",
       "      <td>617713567943098367</td>\n",
       "      <td>604202769091395583</td>\n",
       "      <td>True</td>\n",
       "    </tr>\n",
       "    <tr>\n",
       "      <th>4</th>\n",
       "      <td>622217167539044351</td>\n",
       "      <td>False</td>\n",
       "      <td>617713567911903231</td>\n",
       "      <td>604202769091395583</td>\n",
       "      <td>True</td>\n",
       "    </tr>\n",
       "    <tr>\n",
       "      <th>...</th>\n",
       "      <td>...</td>\n",
       "      <td>...</td>\n",
       "      <td>...</td>\n",
       "      <td>...</td>\n",
       "      <td>...</td>\n",
       "    </tr>\n",
       "    <tr>\n",
       "      <th>1158470</th>\n",
       "      <td>622214773979774975</td>\n",
       "      <td>False</td>\n",
       "      <td>617711174352633855</td>\n",
       "      <td>604200375586652159</td>\n",
       "      <td>True</td>\n",
       "    </tr>\n",
       "    <tr>\n",
       "      <th>1158471</th>\n",
       "      <td>622214735945957375</td>\n",
       "      <td>False</td>\n",
       "      <td>617711136318685183</td>\n",
       "      <td>604200337468817407</td>\n",
       "      <td>False</td>\n",
       "    </tr>\n",
       "    <tr>\n",
       "      <th>1158472</th>\n",
       "      <td>622214779148206079</td>\n",
       "      <td>True</td>\n",
       "      <td>617711179521064959</td>\n",
       "      <td>604200380686925823</td>\n",
       "      <td>True</td>\n",
       "    </tr>\n",
       "    <tr>\n",
       "      <th>1158473</th>\n",
       "      <td>622214769801265151</td>\n",
       "      <td>False</td>\n",
       "      <td>617711170174058495</td>\n",
       "      <td>604200371425902591</td>\n",
       "      <td>True</td>\n",
       "    </tr>\n",
       "    <tr>\n",
       "      <th>1158474</th>\n",
       "      <td>622214776647352319</td>\n",
       "      <td>False</td>\n",
       "      <td>617711177020211199</td>\n",
       "      <td>604200378271006719</td>\n",
       "      <td>True</td>\n",
       "    </tr>\n",
       "  </tbody>\n",
       "</table>\n",
       "<p>1158475 rows × 5 columns</p>\n",
       "</div>"
      ],
      "text/plain": [
       "                     h3_l10  has_point               h3_l9  \\\n",
       "0        622215106392391679       True  617711506765119487   \n",
       "1        622217167903752191      False  617713568276545535   \n",
       "2        622217167789129727      False  617713568161988607   \n",
       "3        622217167570305023      False  617713567943098367   \n",
       "4        622217167539044351      False  617713567911903231   \n",
       "...                     ...        ...                 ...   \n",
       "1158470  622214773979774975      False  617711174352633855   \n",
       "1158471  622214735945957375      False  617711136318685183   \n",
       "1158472  622214779148206079       True  617711179521064959   \n",
       "1158473  622214769801265151      False  617711170174058495   \n",
       "1158474  622214776647352319      False  617711177020211199   \n",
       "\n",
       "                      h3_l6  has_point_l6  \n",
       "0        604200707909746687          True  \n",
       "1        604202769494048767          True  \n",
       "2        604202769359831039         False  \n",
       "3        604202769091395583          True  \n",
       "4        604202769091395583          True  \n",
       "...                     ...           ...  \n",
       "1158470  604200375586652159          True  \n",
       "1158471  604200337468817407         False  \n",
       "1158472  604200380686925823          True  \n",
       "1158473  604200371425902591          True  \n",
       "1158474  604200378271006719          True  \n",
       "\n",
       "[1158475 rows x 5 columns]"
      ]
     },
     "execution_count": 52,
     "metadata": {},
     "output_type": "execute_result"
    }
   ],
   "source": [
    "aoi_h3_df.join(aoi_h3_df.groupby('h3_l6')['has_point'].any(), on='h3_l6', rsuffix='_l6')"
   ]
  },
  {
   "cell_type": "code",
   "execution_count": 58,
   "metadata": {},
   "outputs": [
    {
     "name": "stdout",
     "output_type": "stream",
     "text": [
      "<class 'pandas.core.frame.DataFrame'>\n",
      "Int64Index: 41168 entries, 0 to 1158472\n",
      "Data columns (total 4 columns):\n",
      " #   Column     Non-Null Count  Dtype\n",
      "---  ------     --------------  -----\n",
      " 0   h3_l10     41168 non-null  int64\n",
      " 1   has_point  41168 non-null  bool \n",
      " 2   h3_l9      41168 non-null  int64\n",
      " 3   h3_l6      41168 non-null  int64\n",
      "dtypes: bool(1), int64(3)\n",
      "memory usage: 1.3 MB\n"
     ]
    }
   ],
   "source": [
    "aoi_h3_df_out = aoi_h3_df[aoi_h3_df.has_point]\n",
    "aoi_h3_df_out.info()"
   ]
  },
  {
   "cell_type": "code",
   "execution_count": 60,
   "metadata": {},
   "outputs": [],
   "source": [
    "h3_sedf = h3_arcgis.get_h3_hex_dataframe_from_h3_id_lst(aoi_h3_df_out.h3_l10)"
   ]
  },
  {
   "cell_type": "code",
   "execution_count": 63,
   "metadata": {},
   "outputs": [],
   "source": [
    "h3_sedf.h3_id = h3_sedf.h3_id.astype(str)"
   ]
  },
  {
   "cell_type": "code",
   "execution_count": 64,
   "metadata": {},
   "outputs": [
    {
     "data": {
      "text/plain": [
       "'D:\\\\projects\\\\h3-arcgis\\\\data\\\\interim\\\\interim.gdb\\\\h3_l10_init'"
      ]
     },
     "execution_count": 64,
     "metadata": {},
     "output_type": "execute_result"
    }
   ],
   "source": [
    "h3_sedf.spatial.to_featureclass(gdb_int/'h3_l10_init')"
   ]
  },
  {
   "cell_type": "code",
   "execution_count": null,
   "metadata": {},
   "outputs": [],
   "source": []
  }
 ],
 "metadata": {
  "kernelspec": {
   "display_name": "Python 3",
   "language": "python",
   "name": "python3"
  },
  "language_info": {
   "codemirror_mode": {
    "name": "ipython",
    "version": 3
   },
   "file_extension": ".py",
   "mimetype": "text/x-python",
   "name": "python",
   "nbconvert_exporter": "python",
   "pygments_lexer": "ipython3",
   "version": "3.6.10"
  }
 },
 "nbformat": 4,
 "nbformat_minor": 4
}
