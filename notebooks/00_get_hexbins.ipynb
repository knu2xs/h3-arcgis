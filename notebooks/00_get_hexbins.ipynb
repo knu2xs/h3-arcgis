{
 "cells": [
  {
   "cell_type": "code",
   "execution_count": 1,
   "metadata": {},
   "outputs": [],
   "source": [
    "from itertools import chain\n",
    "import json\n",
    "import os\n",
    "from pathlib import Path\n",
    "import sys\n",
    "\n",
    "from arcgis.features import GeoAccessor\n",
    "from arcgis.geometry import Geometry\n",
    "import pandas as pd\n",
    "from h3 import h3"
   ]
  },
  {
   "cell_type": "code",
   "execution_count": 2,
   "metadata": {},
   "outputs": [],
   "source": [
    "project_parent = Path('./').absolute().parent\n",
    "\n",
    "data_dir = project_parent/'data'\n",
    "\n",
    "data_raw = data_dir/'raw'\n",
    "data_int = data_dir/'interim'\n",
    "data_out = data_dir/'processed'\n",
    "\n",
    "gdb_raw = data_raw/'raw.gdb'\n",
    "gdb_int = data_int/'interim.gdb'\n",
    "gdb_out = data_out/'processed.gdb'\n",
    "\n",
    "# import the project package from the project package path\n",
    "sys.path.append(str(project_parent/'src'))\n",
    "import h3_arcgis\n",
    "\n",
    "# load the \"autoreload\" extension so that code can change, & always reload modules so that as you change code in src, it gets loaded\n",
    "%load_ext autoreload\n",
    "%autoreload 2"
   ]
  },
  {
   "cell_type": "markdown",
   "metadata": {},
   "source": [
    "# Start Analysis Prototyping"
   ]
  },
  {
   "cell_type": "code",
   "execution_count": 7,
   "metadata": {},
   "outputs": [
    {
     "name": "stderr",
     "output_type": "stream",
     "text": [
      "C:\\Program Files\\ArcGIS\\Pro\\bin\\Python\\envs\\h3-py\\lib\\site-packages\\numpy\\lib\\arraysetops.py:569: FutureWarning: elementwise comparison failed; returning scalar instead, but in the future will perform elementwise comparison\n",
      "  mask |= (ar1 == a)\n"
     ]
    },
    {
     "data": {
      "application/vnd.jupyter.widget-view+json": {
       "model_id": "7d7069b0f7784e62b4cc39db3dbe0766",
       "version_major": 2,
       "version_minor": 0
      },
      "text/plain": [
       "HBox(children=(FloatProgress(value=0.0, description='Pandas Apply', max=1363778.0, style=ProgressStyle(descrip…"
      ]
     },
     "metadata": {},
     "output_type": "display_data"
    },
    {
     "name": "stdout",
     "output_type": "stream",
     "text": [
      "\n"
     ]
    },
    {
     "data": {
      "text/html": [
       "<div>\n",
       "<style scoped>\n",
       "    .dataframe tbody tr th:only-of-type {\n",
       "        vertical-align: middle;\n",
       "    }\n",
       "\n",
       "    .dataframe tbody tr th {\n",
       "        vertical-align: top;\n",
       "    }\n",
       "\n",
       "    .dataframe thead th {\n",
       "        text-align: right;\n",
       "    }\n",
       "</style>\n",
       "<table border=\"1\" class=\"dataframe\">\n",
       "  <thead>\n",
       "    <tr style=\"text-align: right;\">\n",
       "      <th></th>\n",
       "      <th>travel_distance_miles</th>\n",
       "      <th>travel_time_minutes</th>\n",
       "      <th>SHAPE</th>\n",
       "      <th>store_locnum</th>\n",
       "    </tr>\n",
       "  </thead>\n",
       "  <tbody>\n",
       "    <tr>\n",
       "      <td>0</td>\n",
       "      <td>13.261921</td>\n",
       "      <td>25.033333</td>\n",
       "      <td>{'x': -123.026415, 'y': 44.87728, 'spatialRefe...</td>\n",
       "      <td>413963145</td>\n",
       "    </tr>\n",
       "    <tr>\n",
       "      <td>1</td>\n",
       "      <td>8.260506</td>\n",
       "      <td>12.466667</td>\n",
       "      <td>{'x': -123.150157, 'y': 44.933511, 'spatialRef...</td>\n",
       "      <td>244210043</td>\n",
       "    </tr>\n",
       "    <tr>\n",
       "      <td>2</td>\n",
       "      <td>2.013863</td>\n",
       "      <td>8.750000</td>\n",
       "      <td>{'x': -123.312642, 'y': 44.929472, 'spatialRef...</td>\n",
       "      <td>244210043</td>\n",
       "    </tr>\n",
       "    <tr>\n",
       "      <td>3</td>\n",
       "      <td>0.547428</td>\n",
       "      <td>7.516667</td>\n",
       "      <td>{'x': -123.30801, 'y': 44.9299, 'spatialRefere...</td>\n",
       "      <td>244210043</td>\n",
       "    </tr>\n",
       "    <tr>\n",
       "      <td>4</td>\n",
       "      <td>0.133595</td>\n",
       "      <td>3.100000</td>\n",
       "      <td>{'x': -123.315767, 'y': 44.922983, 'spatialRef...</td>\n",
       "      <td>244210043</td>\n",
       "    </tr>\n",
       "  </tbody>\n",
       "</table>\n",
       "</div>"
      ],
      "text/plain": [
       "   travel_distance_miles  travel_time_minutes  \\\n",
       "0              13.261921            25.033333   \n",
       "1               8.260506            12.466667   \n",
       "2               2.013863             8.750000   \n",
       "3               0.547428             7.516667   \n",
       "4               0.133595             3.100000   \n",
       "\n",
       "                                               SHAPE  store_locnum  \n",
       "0  {'x': -123.026415, 'y': 44.87728, 'spatialRefe...     413963145  \n",
       "1  {'x': -123.150157, 'y': 44.933511, 'spatialRef...     244210043  \n",
       "2  {'x': -123.312642, 'y': 44.929472, 'spatialRef...     244210043  \n",
       "3  {'x': -123.30801, 'y': 44.9299, 'spatialRefere...     244210043  \n",
       "4  {'x': -123.315767, 'y': 44.922983, 'spatialRef...     244210043  "
      ]
     },
     "execution_count": 7,
     "metadata": {},
     "output_type": "execute_result"
    }
   ],
   "source": [
    "raw_trips_csv = data_raw/'raw_trips.csv'\n",
    "raw_df = pd.read_csv(raw_trips_csv, index_col=0).reset_index(drop=True)\n",
    "\n",
    "raw_df.SHAPE = raw_df.SHAPE.swifter.apply(lambda geom: Geometry(eval(geom)))\n",
    "raw_df.spatial.set_geometry('SHAPE')\n",
    "\n",
    "raw_df.head()"
   ]
  },
  {
   "cell_type": "code",
   "execution_count": 25,
   "metadata": {},
   "outputs": [
    {
     "data": {
      "application/vnd.jupyter.widget-view+json": {
       "model_id": "8888102639be4f3fae43f6775f12fe59",
       "version_major": 2,
       "version_minor": 0
      },
      "text/plain": [
       "HBox(children=(FloatProgress(value=0.0, description='Dask Apply', max=32.0, style=ProgressStyle(description_wi…"
      ]
     },
     "metadata": {},
     "output_type": "display_data"
    },
    {
     "name": "stdout",
     "output_type": "stream",
     "text": [
      "\n"
     ]
    },
    {
     "data": {
      "text/html": [
       "<div>\n",
       "<style scoped>\n",
       "    .dataframe tbody tr th:only-of-type {\n",
       "        vertical-align: middle;\n",
       "    }\n",
       "\n",
       "    .dataframe tbody tr th {\n",
       "        vertical-align: top;\n",
       "    }\n",
       "\n",
       "    .dataframe thead th {\n",
       "        text-align: right;\n",
       "    }\n",
       "</style>\n",
       "<table border=\"1\" class=\"dataframe\">\n",
       "  <thead>\n",
       "    <tr style=\"text-align: right;\">\n",
       "      <th></th>\n",
       "      <th>travel_distance_miles</th>\n",
       "      <th>travel_time_minutes</th>\n",
       "      <th>SHAPE</th>\n",
       "      <th>store_locnum</th>\n",
       "      <th>h3_id</th>\n",
       "    </tr>\n",
       "  </thead>\n",
       "  <tbody>\n",
       "    <tr>\n",
       "      <td>0</td>\n",
       "      <td>13.261921</td>\n",
       "      <td>25.033333</td>\n",
       "      <td>{'x': -123.026415, 'y': 44.87728, 'spatialRefe...</td>\n",
       "      <td>413963145</td>\n",
       "      <td>8628f42e7ffffff</td>\n",
       "    </tr>\n",
       "    <tr>\n",
       "      <td>1</td>\n",
       "      <td>8.260506</td>\n",
       "      <td>12.466667</td>\n",
       "      <td>{'x': -123.150157, 'y': 44.933511, 'spatialRef...</td>\n",
       "      <td>244210043</td>\n",
       "      <td>8628f55b7ffffff</td>\n",
       "    </tr>\n",
       "    <tr>\n",
       "      <td>2</td>\n",
       "      <td>2.013863</td>\n",
       "      <td>8.750000</td>\n",
       "      <td>{'x': -123.312642, 'y': 44.929472, 'spatialRef...</td>\n",
       "      <td>244210043</td>\n",
       "      <td>8628f5517ffffff</td>\n",
       "    </tr>\n",
       "    <tr>\n",
       "      <td>3</td>\n",
       "      <td>0.547428</td>\n",
       "      <td>7.516667</td>\n",
       "      <td>{'x': -123.30801, 'y': 44.9299, 'spatialRefere...</td>\n",
       "      <td>244210043</td>\n",
       "      <td>8628f5517ffffff</td>\n",
       "    </tr>\n",
       "    <tr>\n",
       "      <td>4</td>\n",
       "      <td>0.133595</td>\n",
       "      <td>3.100000</td>\n",
       "      <td>{'x': -123.315767, 'y': 44.922983, 'spatialRef...</td>\n",
       "      <td>244210043</td>\n",
       "      <td>8628f5517ffffff</td>\n",
       "    </tr>\n",
       "  </tbody>\n",
       "</table>\n",
       "</div>"
      ],
      "text/plain": [
       "   travel_distance_miles  travel_time_minutes  \\\n",
       "0              13.261921            25.033333   \n",
       "1               8.260506            12.466667   \n",
       "2               2.013863             8.750000   \n",
       "3               0.547428             7.516667   \n",
       "4               0.133595             3.100000   \n",
       "\n",
       "                                               SHAPE  store_locnum  \\\n",
       "0  {'x': -123.026415, 'y': 44.87728, 'spatialRefe...     413963145   \n",
       "1  {'x': -123.150157, 'y': 44.933511, 'spatialRef...     244210043   \n",
       "2  {'x': -123.312642, 'y': 44.929472, 'spatialRef...     244210043   \n",
       "3  {'x': -123.30801, 'y': 44.9299, 'spatialRefere...     244210043   \n",
       "4  {'x': -123.315767, 'y': 44.922983, 'spatialRef...     244210043   \n",
       "\n",
       "             h3_id  \n",
       "0  8628f42e7ffffff  \n",
       "1  8628f55b7ffffff  \n",
       "2  8628f5517ffffff  \n",
       "3  8628f5517ffffff  \n",
       "4  8628f5517ffffff  "
      ]
     },
     "execution_count": 25,
     "metadata": {},
     "output_type": "execute_result"
    }
   ],
   "source": [
    "h3_res = 6\n",
    "\n",
    "raw_df['h3_id'] = raw_df.SHAPE.swifter.apply(lambda geom: h3.geo_to_h3(geom.centroid[1], geom.centroid[0], h3_res))\n",
    "\n",
    "raw_df.head()"
   ]
  },
  {
   "cell_type": "code",
   "execution_count": 26,
   "metadata": {},
   "outputs": [
    {
     "data": {
      "text/html": [
       "<div>\n",
       "<style scoped>\n",
       "    .dataframe tbody tr th:only-of-type {\n",
       "        vertical-align: middle;\n",
       "    }\n",
       "\n",
       "    .dataframe tbody tr th {\n",
       "        vertical-align: top;\n",
       "    }\n",
       "\n",
       "    .dataframe thead th {\n",
       "        text-align: right;\n",
       "    }\n",
       "</style>\n",
       "<table border=\"1\" class=\"dataframe\">\n",
       "  <thead>\n",
       "    <tr style=\"text-align: right;\">\n",
       "      <th></th>\n",
       "      <th>h3_id</th>\n",
       "      <th>count</th>\n",
       "    </tr>\n",
       "  </thead>\n",
       "  <tbody>\n",
       "    <tr>\n",
       "      <td>0</td>\n",
       "      <td>8628f0007ffffff</td>\n",
       "      <td>262296</td>\n",
       "    </tr>\n",
       "    <tr>\n",
       "      <td>1</td>\n",
       "      <td>8628f0027ffffff</td>\n",
       "      <td>121275</td>\n",
       "    </tr>\n",
       "    <tr>\n",
       "      <td>2</td>\n",
       "      <td>8628f0037ffffff</td>\n",
       "      <td>83914</td>\n",
       "    </tr>\n",
       "    <tr>\n",
       "      <td>3</td>\n",
       "      <td>8628f002fffffff</td>\n",
       "      <td>58735</td>\n",
       "    </tr>\n",
       "    <tr>\n",
       "      <td>4</td>\n",
       "      <td>8628f0157ffffff</td>\n",
       "      <td>53811</td>\n",
       "    </tr>\n",
       "  </tbody>\n",
       "</table>\n",
       "</div>"
      ],
      "text/plain": [
       "             h3_id   count\n",
       "0  8628f0007ffffff  262296\n",
       "1  8628f0027ffffff  121275\n",
       "2  8628f0037ffffff   83914\n",
       "3  8628f002fffffff   58735\n",
       "4  8628f0157ffffff   53811"
      ]
     },
     "execution_count": 26,
     "metadata": {},
     "output_type": "execute_result"
    }
   ],
   "source": [
    "df = raw_df.h3_id.value_counts().to_frame().reset_index()\n",
    "df.columns = ['h3_id', 'count']\n",
    "\n",
    "df.head()"
   ]
  },
  {
   "cell_type": "code",
   "execution_count": 27,
   "metadata": {},
   "outputs": [
    {
     "data": {
      "application/vnd.jupyter.widget-view+json": {
       "model_id": "ffc4558e2e684304808ebbcb3b617330",
       "version_major": 2,
       "version_minor": 0
      },
      "text/plain": [
       "HBox(children=(FloatProgress(value=0.0, description='Pandas Apply', max=1283.0, style=ProgressStyle(descriptio…"
      ]
     },
     "metadata": {},
     "output_type": "display_data"
    },
    {
     "name": "stdout",
     "output_type": "stream",
     "text": [
      "\n"
     ]
    },
    {
     "data": {
      "text/html": [
       "<div>\n",
       "<style scoped>\n",
       "    .dataframe tbody tr th:only-of-type {\n",
       "        vertical-align: middle;\n",
       "    }\n",
       "\n",
       "    .dataframe tbody tr th {\n",
       "        vertical-align: top;\n",
       "    }\n",
       "\n",
       "    .dataframe thead th {\n",
       "        text-align: right;\n",
       "    }\n",
       "</style>\n",
       "<table border=\"1\" class=\"dataframe\">\n",
       "  <thead>\n",
       "    <tr style=\"text-align: right;\">\n",
       "      <th></th>\n",
       "      <th>h3_id</th>\n",
       "      <th>count</th>\n",
       "      <th>SHAPE</th>\n",
       "    </tr>\n",
       "  </thead>\n",
       "  <tbody>\n",
       "    <tr>\n",
       "      <td>0</td>\n",
       "      <td>8628f0007ffffff</td>\n",
       "      <td>262296</td>\n",
       "      <td>{'rings': [[[-122.65751269299994, 45.515817929...</td>\n",
       "    </tr>\n",
       "    <tr>\n",
       "      <td>1</td>\n",
       "      <td>8628f0027ffffff</td>\n",
       "      <td>121275</td>\n",
       "      <td>{'rings': [[[-122.68027255599998, 45.462072752...</td>\n",
       "    </tr>\n",
       "    <tr>\n",
       "      <td>2</td>\n",
       "      <td>8628f0037ffffff</td>\n",
       "      <td>83914</td>\n",
       "      <td>{'rings': [[[-122.60160280699995, 45.479434998...</td>\n",
       "    </tr>\n",
       "    <tr>\n",
       "      <td>3</td>\n",
       "      <td>8628f002fffffff</td>\n",
       "      <td>58735</td>\n",
       "      <td>{'rings': [[[-122.73617703499997, 45.498419726...</td>\n",
       "    </tr>\n",
       "    <tr>\n",
       "      <td>4</td>\n",
       "      <td>8628f0157ffffff</td>\n",
       "      <td>53811</td>\n",
       "      <td>{'rings': [[[-122.75887378399995, 45.444660979...</td>\n",
       "    </tr>\n",
       "  </tbody>\n",
       "</table>\n",
       "</div>"
      ],
      "text/plain": [
       "             h3_id   count                                              SHAPE\n",
       "0  8628f0007ffffff  262296  {'rings': [[[-122.65751269299994, 45.515817929...\n",
       "1  8628f0027ffffff  121275  {'rings': [[[-122.68027255599998, 45.462072752...\n",
       "2  8628f0037ffffff   83914  {'rings': [[[-122.60160280699995, 45.479434998...\n",
       "3  8628f002fffffff   58735  {'rings': [[[-122.73617703499997, 45.498419726...\n",
       "4  8628f0157ffffff   53811  {'rings': [[[-122.75887378399995, 45.444660979..."
      ]
     },
     "execution_count": 27,
     "metadata": {},
     "output_type": "execute_result"
    }
   ],
   "source": [
    "df_geom = h3_arcgis.get_h3_spatially_enabled_dataframe(df, 'h3_id')\n",
    "\n",
    "df_geom.head()"
   ]
  },
  {
   "cell_type": "code",
   "execution_count": 28,
   "metadata": {},
   "outputs": [
    {
     "name": "stdout",
     "output_type": "stream",
     "text": [
      "<class 'pandas.core.frame.DataFrame'>\n",
      "RangeIndex: 1283 entries, 0 to 1282\n",
      "Data columns (total 3 columns):\n",
      "h3_id    1283 non-null object\n",
      "count    1283 non-null int64\n",
      "SHAPE    1283 non-null geometry\n",
      "dtypes: geometry(1), int64(1), object(1)\n",
      "memory usage: 30.2+ KB\n"
     ]
    }
   ],
   "source": [
    "df_geom.info()"
   ]
  },
  {
   "cell_type": "code",
   "execution_count": 30,
   "metadata": {},
   "outputs": [
    {
     "data": {
      "application/vnd.jupyter.widget-view+json": {
       "model_id": "6bcb6e61ea1c4556b0d4f84c630b2e4d",
       "version_major": 2,
       "version_minor": 0
      },
      "text/plain": [
       "MapView(layout=Layout(height='400px', width='100%'))"
      ]
     },
     "metadata": {},
     "output_type": "display_data"
    },
    {
     "data": {
      "text/html": [
       "<div class=\"map-static-img-preview-a6b44f40-6619-44a6-bdc1-302e19ac347c\"><img src=\"\"></img></div>"
      ],
      "text/plain": [
       "<IPython.core.display.HTML object>"
      ]
     },
     "metadata": {},
     "output_type": "display_data"
    }
   ],
   "source": [
    "from arcgis.gis import GIS\n",
    "df_geom.spatial.plot(gis=GIS())"
   ]
  },
  {
   "cell_type": "code",
   "execution_count": 1,
   "metadata": {},
   "outputs": [
    {
     "ename": "NameError",
     "evalue": "name 'h3_arcgis' is not defined",
     "output_type": "error",
     "traceback": [
      "\u001b[1;31m---------------------------------------------------------------------------\u001b[0m",
      "\u001b[1;31mNameError\u001b[0m                                 Traceback (most recent call last)",
      "\u001b[1;32m<ipython-input-1-11937d3f0c24>\u001b[0m in \u001b[0;36m<module>\u001b[1;34m\u001b[0m\n\u001b[1;32m----> 1\u001b[1;33m \u001b[0mfnl_df\u001b[0m \u001b[1;33m=\u001b[0m \u001b[0mh3_arcgis\u001b[0m\u001b[1;33m.\u001b[0m\u001b[0mget_nonoverlapping_h3_hexbins_for_points\u001b[0m\u001b[1;33m(\u001b[0m\u001b[0mraw_df\u001b[0m\u001b[1;33m,\u001b[0m \u001b[0mh3_max\u001b[0m\u001b[1;33m=\u001b[0m\u001b[1;36m10\u001b[0m\u001b[1;33m)\u001b[0m\u001b[1;33m\u001b[0m\u001b[1;33m\u001b[0m\u001b[0m\n\u001b[0m\u001b[0;32m      2\u001b[0m \u001b[0mfnl_df\u001b[0m\u001b[1;33m.\u001b[0m\u001b[0mhead\u001b[0m\u001b[1;33m(\u001b[0m\u001b[1;33m)\u001b[0m\u001b[1;33m\u001b[0m\u001b[1;33m\u001b[0m\u001b[0m\n",
      "\u001b[1;31mNameError\u001b[0m: name 'h3_arcgis' is not defined"
     ]
    }
   ],
   "source": [
    "fnl_df = h3_arcgis.get_nonoverlapping_h3_hexbins_for_points(raw_df, h3_max=10)\n",
    "fnl_df.head()"
   ]
  },
  {
   "cell_type": "code",
   "execution_count": 5,
   "metadata": {},
   "outputs": [
    {
     "data": {
      "application/vnd.jupyter.widget-view+json": {
       "model_id": "18b6beef61ce45ab840efbfd702bc991",
       "version_major": 2,
       "version_minor": 0
      },
      "text/plain": [
       "MapView(layout=Layout(height='400px', width='100%'))"
      ]
     },
     "metadata": {},
     "output_type": "display_data"
    },
    {
     "data": {
      "text/html": [
       "<div class=\"map-static-img-preview-3dd2a725-5b55-4f39-ba43-b6376f79ab6f\"><img src=\"\"></img></div>"
      ],
      "text/plain": [
       "<IPython.core.display.HTML object>"
      ]
     },
     "metadata": {},
     "output_type": "display_data"
    }
   ],
   "source": [
    "fnl_df.spatial.plot()"
   ]
  },
  {
   "cell_type": "code",
   "execution_count": null,
   "metadata": {},
   "outputs": [],
   "source": []
  }
 ],
 "metadata": {
  "kernelspec": {
   "display_name": "Python 3",
   "language": "python",
   "name": "python3"
  },
  "language_info": {
   "codemirror_mode": {
    "name": "ipython",
    "version": 3
   },
   "file_extension": ".py",
   "mimetype": "text/x-python",
   "name": "python",
   "nbconvert_exporter": "python",
   "pygments_lexer": "ipython3",
   "version": "3.6.9"
  }
 },
 "nbformat": 4,
 "nbformat_minor": 4
}
