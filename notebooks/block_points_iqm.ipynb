{
 "cells": [
  {
   "cell_type": "code",
   "execution_count": 2,
   "metadata": {},
   "outputs": [],
   "source": [
    "import math\n",
    "from pathlib import Path\n",
    "\n",
    "import arcpy\n",
    "from ba_tools import data\n",
    "import pandas as pd\n",
    "import numpy as np"
   ]
  },
  {
   "cell_type": "code",
   "execution_count": 3,
   "metadata": {},
   "outputs": [
    {
     "data": {
      "text/plain": [
       "WindowsPath('D:/arcgis/ba_data/Data/Demographic Data/block_data.gdb/USA_ESRI_2019_blocks')"
      ]
     },
     "execution_count": 3,
     "metadata": {},
     "output_type": "execute_result"
    }
   ],
   "source": [
    "pth_bp = Path(r'D:\\arcgis\\ba_data\\Data\\Demographic Data\\block_data.gdb\\USA_ESRI_2019_blocks')\n",
    "pth_bp"
   ]
  },
  {
   "cell_type": "code",
   "execution_count": 4,
   "metadata": {},
   "outputs": [
    {
     "data": {
      "text/plain": [
       "0    150039812001004\n",
       "1    150039812001005\n",
       "2    150039812001006\n",
       "3    150039812001007\n",
       "4    150039812001008\n",
       "dtype: object"
      ]
     },
     "execution_count": 4,
     "metadata": {},
     "output_type": "execute_result"
    }
   ],
   "source": [
    "fips_lst = pd.Series([r[0] for r in arcpy.da.SearchCursor(str(pth_bp), 'fips')])\n",
    "fips_lst.head()"
   ]
  },
  {
   "cell_type": "code",
   "execution_count": 5,
   "metadata": {},
   "outputs": [
    {
     "data": {
      "text/plain": [
       "12115002712    1350\n",
       "38055961000    1020\n",
       "32023980500    1000\n",
       "31065963900     988\n",
       "38025962200     960\n",
       "               ... \n",
       "36081061302       1\n",
       "55101980000       1\n",
       "06029004601       1\n",
       "36081079300       1\n",
       "06075980401       1\n",
       "Length: 72758, dtype: int64"
      ]
     },
     "execution_count": 5,
     "metadata": {},
     "output_type": "execute_result"
    }
   ],
   "source": [
    "bp_id_cnts = fips_lst.apply(lambda val: val[:-4]).value_counts()\n",
    "bp_id_cnts"
   ]
  },
  {
   "cell_type": "code",
   "execution_count": 9,
   "metadata": {},
   "outputs": [
    {
     "data": {
      "text/plain": [
       "72758"
      ]
     },
     "execution_count": 9,
     "metadata": {},
     "output_type": "execute_result"
    }
   ],
   "source": [
    "bp_cnt = len(bp_id_cnts.index)\n",
    "bp_cnt"
   ]
  },
  {
   "cell_type": "code",
   "execution_count": 10,
   "metadata": {},
   "outputs": [
    {
     "data": {
      "text/plain": [
       "27163070206    120\n",
       "42071012001    120\n",
       "09003468101    120\n",
       "30017961600    120\n",
       "39119912400    120\n",
       "              ... \n",
       "51710980100     41\n",
       "48027022200     41\n",
       "17097861107     41\n",
       "26081011403     41\n",
       "39035186201     41\n",
       "Length: 36380, dtype: int64"
      ]
     },
     "execution_count": 10,
     "metadata": {},
     "output_type": "execute_result"
    }
   ],
   "source": [
    "bp_id_cnts.iloc[math.floor(bp_cnt * 0.25):math.ceil(bp_cnt * 0.75)]"
   ]
  },
  {
   "cell_type": "code",
   "execution_count": 11,
   "metadata": {},
   "outputs": [
    {
     "data": {
      "text/plain": [
       "71"
      ]
     },
     "execution_count": 11,
     "metadata": {},
     "output_type": "execute_result"
    }
   ],
   "source": [
    "math.floor(np.mean(bp_id_cnts.iloc[math.floor(bp_cnt * 0.25):math.ceil(bp_cnt * 0.75)]))"
   ]
  },
  {
   "cell_type": "code",
   "execution_count": 14,
   "metadata": {},
   "outputs": [
    {
     "data": {
      "text/plain": [
       "24"
      ]
     },
     "execution_count": 14,
     "metadata": {},
     "output_type": "execute_result"
    }
   ],
   "source": [
    "bp_id_cnts.iloc[math.floor(bp_cnt * 0.9)]"
   ]
  },
  {
   "cell_type": "code",
   "execution_count": null,
   "metadata": {},
   "outputs": [],
   "source": []
  }
 ],
 "metadata": {
  "kernelspec": {
   "display_name": "Python 3",
   "language": "python",
   "name": "python3"
  },
  "language_info": {
   "codemirror_mode": {
    "name": "ipython",
    "version": 3
   },
   "file_extension": ".py",
   "mimetype": "text/x-python",
   "name": "python",
   "nbconvert_exporter": "python",
   "pygments_lexer": "ipython3",
   "version": "3.6.9"
  }
 },
 "nbformat": 4,
 "nbformat_minor": 4
}
