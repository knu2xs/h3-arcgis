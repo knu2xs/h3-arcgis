{
 "cells": [
  {
   "cell_type": "code",
   "execution_count": 2,
   "metadata": {},
   "outputs": [],
   "source": [
    "import math\n",
    "from pathlib import Path\n",
    "\n",
    "import arcpy\n",
    "from ba_tools import data\n",
    "import pandas as pd\n",
    "import numpy as np\n",
    "\n",
    "from h3 import h3\n",
    "from itertools import chain\n",
    "import json\n",
    "import os\n",
    "from pathlib import Path\n",
    "import sys\n",
    "from copy import deepcopy\n",
    "\n",
    "from arcgis.features import GeoAccessor\n",
    "from arcgis.geometry import Geometry\n",
    "import pandas as pd\n",
    "\n",
    "project_parent = Path('./').absolute().parent\n",
    "\n",
    "data_dir = project_parent/'data'\n",
    "\n",
    "data_raw = data_dir/'raw'\n",
    "data_int = data_dir/'interim'\n",
    "data_out = data_dir/'processed'\n",
    "\n",
    "gdb_raw = data_raw/'raw.gdb'\n",
    "gdb_int = data_int/'interim.gdb'\n",
    "gdb_out = data_out/'processed.gdb'\n",
    "\n",
    "# import the project package from the project package path\n",
    "sys.path.append(str(project_parent/'src'))\n",
    "import h3_arcgis\n",
    "\n",
    "# load the \"autoreload\" extension so that code can change, & always reload modules so that as you change code in src, it gets loaded\n",
    "%load_ext autoreload\n",
    "%autoreload 2"
   ]
  },
  {
   "cell_type": "code",
   "execution_count": 11,
   "metadata": {},
   "outputs": [
    {
     "name": "stdout",
     "output_type": "stream",
     "text": [
      "<class 'pandas.core.frame.DataFrame'>\n",
      "RangeIndex: 6873144 entries, 0 to 6873143\n",
      "Data columns (total 4 columns):\n",
      "FIPS              object\n",
      "SHAPE             geometry\n",
      "HouseholdCount    float64\n",
      "Population        float64\n",
      "dtypes: float64(2), geometry(1), object(1)\n",
      "memory usage: 209.8+ MB\n"
     ]
    }
   ],
   "source": [
    "# pth_bp = Path(r'D:\\arcgis\\ba_data\\Data\\Demographic Data\\block_data.gdb\\USA_ESRI_2019_blocks')\n",
    "pth_bp = gdb_int/'block_points_us_contermonious'\n",
    "pth_bp\n",
    "\n",
    "df_bp = GeoAccessor.from_featureclass(str(pth_bp))\n",
    "df_bp.head()\n",
    "\n",
    "df_bp = df_bp[['FIPS', 'SHAPE', 'HH_C', 'POP_C']].copy()\n",
    "df_bp.columns = ['FIPS', 'SHAPE', 'HouseholdCount', 'Population']\n",
    "df_bp.head()\n",
    "\n",
    "df_bp.info()"
   ]
  },
  {
   "cell_type": "code",
   "execution_count": 12,
   "metadata": {},
   "outputs": [],
   "source": [
    "threshold_count = 1000\n",
    "count_column = 'Population'\n",
    "\n",
    "df_ids = h3_arcgis.get_nonoverlapping_h3_hexbins_for_points(\n",
    "        spatially_enabled_dataframe=df_bp,\n",
    "        h3_minimum=5,\n",
    "        h3_maximum=9,\n",
    "        minimum_threshold_value=threshold_count,\n",
    "        weighting_column=count_column\n",
    "    )"
   ]
  },
  {
   "cell_type": "code",
   "execution_count": 13,
   "metadata": {},
   "outputs": [],
   "source": [
    "df_ids.spatial.to_featureclass(str(gdb_int/f'h3_{count_column.lower()}_{threshold_count}_nat'))\n",
    "df_ids.to_csv(data_int/f'h3_{count_column.lower()}_{threshold_count}_05.csv')"
   ]
  },
  {
   "cell_type": "code",
   "execution_count": null,
   "metadata": {},
   "outputs": [],
   "source": []
  }
 ],
 "metadata": {
  "kernelspec": {
   "display_name": "Python 3",
   "language": "python",
   "name": "python3"
  },
  "language_info": {
   "codemirror_mode": {
    "name": "ipython",
    "version": 3
   },
   "file_extension": ".py",
   "mimetype": "text/x-python",
   "name": "python",
   "nbconvert_exporter": "python",
   "pygments_lexer": "ipython3",
   "version": "3.6.9"
  }
 },
 "nbformat": 4,
 "nbformat_minor": 4
}
