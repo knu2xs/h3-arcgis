{
 "cells": [
  {
   "cell_type": "code",
   "execution_count": 2,
   "metadata": {},
   "outputs": [],
   "source": [
    "import math\n",
    "from pathlib import Path\n",
    "\n",
    "import arcpy\n",
    "from ba_tools import data\n",
    "import pandas as pd\n",
    "import numpy as np\n",
    "\n",
    "from h3 import h3\n",
    "from itertools import chain\n",
    "import json\n",
    "import os\n",
    "from pathlib import Path\n",
    "import sys\n",
    "from copy import deepcopy\n",
    "\n",
    "from arcgis.features import GeoAccessor\n",
    "from arcgis.geometry import Geometry\n",
    "import pandas as pd\n",
    "\n",
    "project_parent = Path('./').absolute().parent\n",
    "\n",
    "data_dir = project_parent/'data'\n",
    "\n",
    "data_raw = data_dir/'raw'\n",
    "data_int = data_dir/'interim'\n",
    "data_out = data_dir/'processed'\n",
    "\n",
    "gdb_raw = data_raw/'raw.gdb'\n",
    "gdb_int = data_int/'interim.gdb'\n",
    "gdb_out = data_out/'processed.gdb'\n",
    "\n",
    "# import the project package from the project package path\n",
    "sys.path.append(str(project_parent/'src'))\n",
    "import h3_arcgis\n",
    "\n",
    "# load the \"autoreload\" extension so that code can change, & always reload modules so that as you change code in src, it gets loaded\n",
    "%load_ext autoreload\n",
    "%autoreload 2"
   ]
  },
  {
   "cell_type": "code",
   "execution_count": 4,
   "metadata": {},
   "outputs": [
    {
     "name": "stdout",
     "output_type": "stream",
     "text": [
      "<class 'pandas.core.frame.DataFrame'>\n",
      "RangeIndex: 45546 entries, 0 to 45545\n",
      "Data columns (total 4 columns):\n",
      "FIPS              45546 non-null object\n",
      "SHAPE             45546 non-null geometry\n",
      "HouseholdCount    45546 non-null float64\n",
      "Population        45546 non-null float64\n",
      "dtypes: float64(2), geometry(1), object(1)\n",
      "memory usage: 1.4+ MB\n"
     ]
    }
   ],
   "source": [
    "# pth_bp = Path(r'D:\\arcgis\\ba_data\\Data\\Demographic Data\\block_data.gdb\\USA_ESRI_2019_blocks')\n",
    "pth_bp = gdb_int/'sea_block_points'\n",
    "pth_bp\n",
    "\n",
    "df_bp = GeoAccessor.from_featureclass(str(pth_bp))\n",
    "df_bp.head()\n",
    "\n",
    "df_bp = df_bp[['FIPS', 'SHAPE', 'HH_C', 'POP_C']].copy()\n",
    "df_bp.columns = ['FIPS', 'SHAPE', 'HouseholdCount', 'Population']\n",
    "df_bp.head()\n",
    "\n",
    "df_bp.info()"
   ]
  },
  {
   "cell_type": "code",
   "execution_count": 12,
   "metadata": {},
   "outputs": [
    {
     "data": {
      "application/vnd.jupyter.widget-view+json": {
       "model_id": "be5c47776aeb48a395b978c7f989f6ca",
       "version_major": 2,
       "version_minor": 0
      },
      "text/plain": [
       "HBox(children=(FloatProgress(value=0.0, description='Pandas Apply', max=45546.0, style=ProgressStyle(descripti…"
      ]
     },
     "metadata": {},
     "output_type": "display_data"
    },
    {
     "name": "stdout",
     "output_type": "stream",
     "text": [
      "\n"
     ]
    },
    {
     "data": {
      "application/vnd.jupyter.widget-view+json": {
       "model_id": "c146b64f4f3e426db2428fce12c3fcac",
       "version_major": 2,
       "version_minor": 0
      },
      "text/plain": [
       "HBox(children=(FloatProgress(value=0.0, description='Pandas Apply', max=45546.0, style=ProgressStyle(descripti…"
      ]
     },
     "metadata": {},
     "output_type": "display_data"
    },
    {
     "name": "stdout",
     "output_type": "stream",
     "text": [
      "\n"
     ]
    },
    {
     "data": {
      "application/vnd.jupyter.widget-view+json": {
       "model_id": "1c61709b5c3d41b5aef0614abb9b5c13",
       "version_major": 2,
       "version_minor": 0
      },
      "text/plain": [
       "HBox(children=(FloatProgress(value=0.0, description='Pandas Apply', max=45546.0, style=ProgressStyle(descripti…"
      ]
     },
     "metadata": {},
     "output_type": "display_data"
    },
    {
     "name": "stdout",
     "output_type": "stream",
     "text": [
      "\n"
     ]
    },
    {
     "data": {
      "application/vnd.jupyter.widget-view+json": {
       "model_id": "76cce05a972240d4b27a33cd6c3a40a0",
       "version_major": 2,
       "version_minor": 0
      },
      "text/plain": [
       "HBox(children=(FloatProgress(value=0.0, description='Pandas Apply', max=45546.0, style=ProgressStyle(descripti…"
      ]
     },
     "metadata": {},
     "output_type": "display_data"
    },
    {
     "name": "stdout",
     "output_type": "stream",
     "text": [
      "\n"
     ]
    },
    {
     "data": {
      "application/vnd.jupyter.widget-view+json": {
       "model_id": "6b999318581244d6a8a12ec830181b70",
       "version_major": 2,
       "version_minor": 0
      },
      "text/plain": [
       "HBox(children=(FloatProgress(value=0.0, description='Pandas Apply', max=45546.0, style=ProgressStyle(descripti…"
      ]
     },
     "metadata": {},
     "output_type": "display_data"
    },
    {
     "name": "stdout",
     "output_type": "stream",
     "text": [
      "\n"
     ]
    },
    {
     "data": {
      "text/html": [
       "<div>\n",
       "<style scoped>\n",
       "    .dataframe tbody tr th:only-of-type {\n",
       "        vertical-align: middle;\n",
       "    }\n",
       "\n",
       "    .dataframe tbody tr th {\n",
       "        vertical-align: top;\n",
       "    }\n",
       "\n",
       "    .dataframe thead th {\n",
       "        text-align: right;\n",
       "    }\n",
       "</style>\n",
       "<table border=\"1\" class=\"dataframe\">\n",
       "  <thead>\n",
       "    <tr style=\"text-align: right;\">\n",
       "      <th></th>\n",
       "      <th>FIPS</th>\n",
       "      <th>SHAPE</th>\n",
       "      <th>HouseholdCount</th>\n",
       "      <th>Population</th>\n",
       "      <th>h3_09</th>\n",
       "      <th>h3_08</th>\n",
       "      <th>h3_07</th>\n",
       "      <th>h3_06</th>\n",
       "      <th>h3_05</th>\n",
       "      <th>h3_id</th>\n",
       "      <th>h3_lvl</th>\n",
       "      <th>h3_orig</th>\n",
       "    </tr>\n",
       "  </thead>\n",
       "  <tbody>\n",
       "    <tr>\n",
       "      <td>0</td>\n",
       "      <td>530530729061083</td>\n",
       "      <td>{'x': -122.70289379994466, 'y': 47.07056900018...</td>\n",
       "      <td>0.0</td>\n",
       "      <td>0.0</td>\n",
       "      <td>8928d59b63bffff</td>\n",
       "      <td>8828d59b63fffff</td>\n",
       "      <td>8728d59b6ffffff</td>\n",
       "      <td>8628d59b7ffffff</td>\n",
       "      <td>8528d59bfffffff</td>\n",
       "      <td>NaN</td>\n",
       "      <td>NaN</td>\n",
       "      <td>NaN</td>\n",
       "    </tr>\n",
       "    <tr>\n",
       "      <td>1</td>\n",
       "      <td>530530730061116</td>\n",
       "      <td>{'x': -122.38923279983811, 'y': 46.84712710009...</td>\n",
       "      <td>2.0</td>\n",
       "      <td>6.0</td>\n",
       "      <td>8928f37843bffff</td>\n",
       "      <td>8828f37843fffff</td>\n",
       "      <td>8728f3784ffffff</td>\n",
       "      <td>8628f3787ffffff</td>\n",
       "      <td>8528f37bfffffff</td>\n",
       "      <td>8528f37bfffffff</td>\n",
       "      <td>5.0</td>\n",
       "      <td>5.0</td>\n",
       "    </tr>\n",
       "    <tr>\n",
       "      <td>2</td>\n",
       "      <td>530530732003038</td>\n",
       "      <td>{'x': -122.27535699972861, 'y': 46.83756129998...</td>\n",
       "      <td>8.0</td>\n",
       "      <td>15.0</td>\n",
       "      <td>8928f34cd77ffff</td>\n",
       "      <td>8828f34cd7fffff</td>\n",
       "      <td>8728f34cdffffff</td>\n",
       "      <td>8628f34cfffffff</td>\n",
       "      <td>8528f34ffffffff</td>\n",
       "      <td>8628f34cfffffff</td>\n",
       "      <td>6.0</td>\n",
       "      <td>6.0</td>\n",
       "    </tr>\n",
       "    <tr>\n",
       "      <td>3</td>\n",
       "      <td>530530732003040</td>\n",
       "      <td>{'x': -122.31008460020831, 'y': 46.84448979965...</td>\n",
       "      <td>2.0</td>\n",
       "      <td>4.0</td>\n",
       "      <td>8928f37b223ffff</td>\n",
       "      <td>8828f37b23fffff</td>\n",
       "      <td>8728f37b2ffffff</td>\n",
       "      <td>8628f37b7ffffff</td>\n",
       "      <td>8528f37bfffffff</td>\n",
       "      <td>8528f37bfffffff</td>\n",
       "      <td>5.0</td>\n",
       "      <td>5.0</td>\n",
       "    </tr>\n",
       "    <tr>\n",
       "      <td>4</td>\n",
       "      <td>530530732003041</td>\n",
       "      <td>{'x': -122.25264919960182, 'y': 46.84812859970...</td>\n",
       "      <td>1.0</td>\n",
       "      <td>1.0</td>\n",
       "      <td>8928f34c83bffff</td>\n",
       "      <td>8828f34c83fffff</td>\n",
       "      <td>8728f34c8ffffff</td>\n",
       "      <td>8628f34cfffffff</td>\n",
       "      <td>8528f34ffffffff</td>\n",
       "      <td>8628f34cfffffff</td>\n",
       "      <td>6.0</td>\n",
       "      <td>6.0</td>\n",
       "    </tr>\n",
       "    <tr>\n",
       "      <td>...</td>\n",
       "      <td>...</td>\n",
       "      <td>...</td>\n",
       "      <td>...</td>\n",
       "      <td>...</td>\n",
       "      <td>...</td>\n",
       "      <td>...</td>\n",
       "      <td>...</td>\n",
       "      <td>...</td>\n",
       "      <td>...</td>\n",
       "      <td>...</td>\n",
       "      <td>...</td>\n",
       "      <td>...</td>\n",
       "    </tr>\n",
       "    <tr>\n",
       "      <td>45541</td>\n",
       "      <td>530330328003455</td>\n",
       "      <td>{'x': -121.16257230027668, 'y': 47.71029490015...</td>\n",
       "      <td>2.0</td>\n",
       "      <td>3.0</td>\n",
       "      <td>8928d0d2e93ffff</td>\n",
       "      <td>8828d0d2e9fffff</td>\n",
       "      <td>8728d0d2effffff</td>\n",
       "      <td>8628d0d2fffffff</td>\n",
       "      <td>8528d0d3fffffff</td>\n",
       "      <td>NaN</td>\n",
       "      <td>NaN</td>\n",
       "      <td>NaN</td>\n",
       "    </tr>\n",
       "    <tr>\n",
       "      <td>45542</td>\n",
       "      <td>530330328003475</td>\n",
       "      <td>{'x': -121.1590584001201, 'y': 47.710500499977...</td>\n",
       "      <td>0.0</td>\n",
       "      <td>0.0</td>\n",
       "      <td>8928d0d2167ffff</td>\n",
       "      <td>8828d0d217fffff</td>\n",
       "      <td>8728d0d21ffffff</td>\n",
       "      <td>8628d0d27ffffff</td>\n",
       "      <td>8528d0d3fffffff</td>\n",
       "      <td>NaN</td>\n",
       "      <td>NaN</td>\n",
       "      <td>NaN</td>\n",
       "    </tr>\n",
       "    <tr>\n",
       "      <td>45543</td>\n",
       "      <td>530330328003476</td>\n",
       "      <td>{'x': -121.15500529956404, 'y': 47.71068230009...</td>\n",
       "      <td>0.0</td>\n",
       "      <td>0.0</td>\n",
       "      <td>8928d0d2167ffff</td>\n",
       "      <td>8828d0d217fffff</td>\n",
       "      <td>8728d0d21ffffff</td>\n",
       "      <td>8628d0d27ffffff</td>\n",
       "      <td>8528d0d3fffffff</td>\n",
       "      <td>NaN</td>\n",
       "      <td>NaN</td>\n",
       "      <td>NaN</td>\n",
       "    </tr>\n",
       "    <tr>\n",
       "      <td>45544</td>\n",
       "      <td>530330328003477</td>\n",
       "      <td>{'x': -121.16192290033126, 'y': 47.71030499956...</td>\n",
       "      <td>1.0</td>\n",
       "      <td>2.0</td>\n",
       "      <td>8928d0d2e93ffff</td>\n",
       "      <td>8828d0d2e9fffff</td>\n",
       "      <td>8728d0d2effffff</td>\n",
       "      <td>8628d0d2fffffff</td>\n",
       "      <td>8528d0d3fffffff</td>\n",
       "      <td>NaN</td>\n",
       "      <td>NaN</td>\n",
       "      <td>NaN</td>\n",
       "    </tr>\n",
       "    <tr>\n",
       "      <td>45545</td>\n",
       "      <td>530610537001000</td>\n",
       "      <td>{'x': -121.2088220998333, 'y': 48.191665999687...</td>\n",
       "      <td>17.0</td>\n",
       "      <td>48.0</td>\n",
       "      <td>8928d054d0bffff</td>\n",
       "      <td>8828d054d1fffff</td>\n",
       "      <td>8728d054dffffff</td>\n",
       "      <td>8628d054fffffff</td>\n",
       "      <td>8528d057fffffff</td>\n",
       "      <td>NaN</td>\n",
       "      <td>NaN</td>\n",
       "      <td>NaN</td>\n",
       "    </tr>\n",
       "  </tbody>\n",
       "</table>\n",
       "<p>45546 rows × 12 columns</p>\n",
       "</div>"
      ],
      "text/plain": [
       "                  FIPS                                              SHAPE  \\\n",
       "0      530530729061083  {'x': -122.70289379994466, 'y': 47.07056900018...   \n",
       "1      530530730061116  {'x': -122.38923279983811, 'y': 46.84712710009...   \n",
       "2      530530732003038  {'x': -122.27535699972861, 'y': 46.83756129998...   \n",
       "3      530530732003040  {'x': -122.31008460020831, 'y': 46.84448979965...   \n",
       "4      530530732003041  {'x': -122.25264919960182, 'y': 46.84812859970...   \n",
       "...                ...                                                ...   \n",
       "45541  530330328003455  {'x': -121.16257230027668, 'y': 47.71029490015...   \n",
       "45542  530330328003475  {'x': -121.1590584001201, 'y': 47.710500499977...   \n",
       "45543  530330328003476  {'x': -121.15500529956404, 'y': 47.71068230009...   \n",
       "45544  530330328003477  {'x': -121.16192290033126, 'y': 47.71030499956...   \n",
       "45545  530610537001000  {'x': -121.2088220998333, 'y': 48.191665999687...   \n",
       "\n",
       "       HouseholdCount  Population            h3_09            h3_08  \\\n",
       "0                 0.0         0.0  8928d59b63bffff  8828d59b63fffff   \n",
       "1                 2.0         6.0  8928f37843bffff  8828f37843fffff   \n",
       "2                 8.0        15.0  8928f34cd77ffff  8828f34cd7fffff   \n",
       "3                 2.0         4.0  8928f37b223ffff  8828f37b23fffff   \n",
       "4                 1.0         1.0  8928f34c83bffff  8828f34c83fffff   \n",
       "...               ...         ...              ...              ...   \n",
       "45541             2.0         3.0  8928d0d2e93ffff  8828d0d2e9fffff   \n",
       "45542             0.0         0.0  8928d0d2167ffff  8828d0d217fffff   \n",
       "45543             0.0         0.0  8928d0d2167ffff  8828d0d217fffff   \n",
       "45544             1.0         2.0  8928d0d2e93ffff  8828d0d2e9fffff   \n",
       "45545            17.0        48.0  8928d054d0bffff  8828d054d1fffff   \n",
       "\n",
       "                 h3_07            h3_06            h3_05            h3_id  \\\n",
       "0      8728d59b6ffffff  8628d59b7ffffff  8528d59bfffffff              NaN   \n",
       "1      8728f3784ffffff  8628f3787ffffff  8528f37bfffffff  8528f37bfffffff   \n",
       "2      8728f34cdffffff  8628f34cfffffff  8528f34ffffffff  8628f34cfffffff   \n",
       "3      8728f37b2ffffff  8628f37b7ffffff  8528f37bfffffff  8528f37bfffffff   \n",
       "4      8728f34c8ffffff  8628f34cfffffff  8528f34ffffffff  8628f34cfffffff   \n",
       "...                ...              ...              ...              ...   \n",
       "45541  8728d0d2effffff  8628d0d2fffffff  8528d0d3fffffff              NaN   \n",
       "45542  8728d0d21ffffff  8628d0d27ffffff  8528d0d3fffffff              NaN   \n",
       "45543  8728d0d21ffffff  8628d0d27ffffff  8528d0d3fffffff              NaN   \n",
       "45544  8728d0d2effffff  8628d0d2fffffff  8528d0d3fffffff              NaN   \n",
       "45545  8728d054dffffff  8628d054fffffff  8528d057fffffff              NaN   \n",
       "\n",
       "       h3_lvl  h3_orig  \n",
       "0         NaN      NaN  \n",
       "1         5.0      5.0  \n",
       "2         6.0      6.0  \n",
       "3         5.0      5.0  \n",
       "4         6.0      6.0  \n",
       "...       ...      ...  \n",
       "45541     NaN      NaN  \n",
       "45542     NaN      NaN  \n",
       "45543     NaN      NaN  \n",
       "45544     NaN      NaN  \n",
       "45545     NaN      NaN  \n",
       "\n",
       "[45546 rows x 12 columns]"
      ]
     },
     "execution_count": 12,
     "metadata": {},
     "output_type": "execute_result"
    }
   ],
   "source": [
    "spatially_enabled_dataframe = df_bp\n",
    "h3_maximum = 9\n",
    "h3_minimum = 5\n",
    "minimum_threshold_value = 1000\n",
    "weighting_column = 'Population'\n",
    "\n",
    "# add h3 ids\n",
    "df = h3_arcgis.add_h3_ids_to_points(spatially_enabled_dataframe, h3_maximum, h3_minimum)\n",
    "\n",
    "# assign h3 grid based on count, and drop those blow the threshold\n",
    "cnt_df = h3_arcgis.get_h3_ids_by_count(df, minimum_threshold_value, count_column=weighting_column)\n",
    "\n",
    "cnt_df"
   ]
  },
  {
   "cell_type": "code",
   "execution_count": 16,
   "metadata": {},
   "outputs": [
    {
     "data": {
      "text/html": [
       "<div>\n",
       "<style scoped>\n",
       "    .dataframe tbody tr th:only-of-type {\n",
       "        vertical-align: middle;\n",
       "    }\n",
       "\n",
       "    .dataframe tbody tr th {\n",
       "        vertical-align: top;\n",
       "    }\n",
       "\n",
       "    .dataframe thead th {\n",
       "        text-align: right;\n",
       "    }\n",
       "</style>\n",
       "<table border=\"1\" class=\"dataframe\">\n",
       "  <thead>\n",
       "    <tr style=\"text-align: right;\">\n",
       "      <th></th>\n",
       "      <th>h3_id</th>\n",
       "      <th>SHAPE</th>\n",
       "      <th>Population</th>\n",
       "      <th>h3_lvl</th>\n",
       "    </tr>\n",
       "  </thead>\n",
       "  <tbody>\n",
       "    <tr>\n",
       "      <td>0</td>\n",
       "      <td>8528d557fffffff</td>\n",
       "      <td>{'rings': [[[-122.36929827899996, 47.500677578...</td>\n",
       "      <td>1862</td>\n",
       "      <td>5.0</td>\n",
       "    </tr>\n",
       "    <tr>\n",
       "      <td>1</td>\n",
       "      <td>8528d0b7fffffff</td>\n",
       "      <td>{'rings': [[[-122.20382834499998, 47.866673952...</td>\n",
       "      <td>1555</td>\n",
       "      <td>5.0</td>\n",
       "    </tr>\n",
       "    <tr>\n",
       "      <td>2</td>\n",
       "      <td>8628d5427ffffff</td>\n",
       "      <td>{'rings': [[[-122.26493069499998, 47.570222506...</td>\n",
       "      <td>946</td>\n",
       "      <td>6.0</td>\n",
       "    </tr>\n",
       "    <tr>\n",
       "      <td>3</td>\n",
       "      <td>8528d437fffffff</td>\n",
       "      <td>{'rings': [[[-121.96960155399995, 47.252683501...</td>\n",
       "      <td>809</td>\n",
       "      <td>5.0</td>\n",
       "    </tr>\n",
       "    <tr>\n",
       "      <td>4</td>\n",
       "      <td>8528d4affffffff</td>\n",
       "      <td>{'rings': [[[-121.96013460199998, 47.111783662...</td>\n",
       "      <td>710</td>\n",
       "      <td>5.0</td>\n",
       "    </tr>\n",
       "  </tbody>\n",
       "</table>\n",
       "</div>"
      ],
      "text/plain": [
       "             h3_id                                              SHAPE  \\\n",
       "0  8528d557fffffff  {'rings': [[[-122.36929827899996, 47.500677578...   \n",
       "1  8528d0b7fffffff  {'rings': [[[-122.20382834499998, 47.866673952...   \n",
       "2  8628d5427ffffff  {'rings': [[[-122.26493069499998, 47.570222506...   \n",
       "3  8528d437fffffff  {'rings': [[[-121.96960155399995, 47.252683501...   \n",
       "4  8528d4affffffff  {'rings': [[[-121.96013460199998, 47.111783662...   \n",
       "\n",
       "   Population  h3_lvl  \n",
       "0        1862     5.0  \n",
       "1        1555     5.0  \n",
       "2         946     6.0  \n",
       "3         809     5.0  \n",
       "4         710     5.0  "
      ]
     },
     "execution_count": 16,
     "metadata": {},
     "output_type": "execute_result"
    }
   ],
   "source": [
    "# roll up smaller grid id assignments to larger parent hexbins\n",
    "cln_cnt_df = h3_arcgis.remove_overlapping_h3_ids(cnt_df)\n",
    "\n",
    "out_df = h3_arcgis.get_h3_hexbins_with_counts(cln_cnt_df, count_column_name=weighting_column)\n",
    "out_df.head()"
   ]
  },
  {
   "cell_type": "code",
   "execution_count": 17,
   "metadata": {},
   "outputs": [
    {
     "data": {
      "text/plain": [
       "'D:\\\\projects\\\\h3-py\\\\data\\\\interim\\\\interim.gdb\\\\sea_hex'"
      ]
     },
     "execution_count": 17,
     "metadata": {},
     "output_type": "execute_result"
    }
   ],
   "source": [
    "out_df.spatial.to_featureclass(str(gdb_int/f'sea_hex'))"
   ]
  },
  {
   "cell_type": "code",
   "execution_count": null,
   "metadata": {},
   "outputs": [],
   "source": []
  }
 ],
 "metadata": {
  "kernelspec": {
   "display_name": "Python 3",
   "language": "python",
   "name": "python3"
  },
  "language_info": {
   "codemirror_mode": {
    "name": "ipython",
    "version": 3
   },
   "file_extension": ".py",
   "mimetype": "text/x-python",
   "name": "python",
   "nbconvert_exporter": "python",
   "pygments_lexer": "ipython3",
   "version": "3.6.9"
  }
 },
 "nbformat": 4,
 "nbformat_minor": 4
}
